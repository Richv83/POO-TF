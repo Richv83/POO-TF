{
 "cells": [
  {
   "cell_type": "code",
   "execution_count": 1,
   "metadata": {},
   "outputs": [
    {
     "name": "stderr",
     "output_type": "stream",
     "text": [
      "C:\\Users\\ricar\\AppData\\Local\\Temp\\ipykernel_8532\\2162656668.py:1: DeprecationWarning: \n",
      "Pyarrow will become a required dependency of pandas in the next major release of pandas (pandas 3.0),\n",
      "(to allow more performant data types, such as the Arrow string type, and better interoperability with other libraries)\n",
      "but was not found to be installed on your system.\n",
      "If this would cause problems for you,\n",
      "please provide us feedback at https://github.com/pandas-dev/pandas/issues/54466\n",
      "        \n",
      "  import pandas as pd\n"
     ]
    }
   ],
   "source": [
    "import pandas as pd\n",
    "import numpy as np"
   ]
  },
  {
   "cell_type": "code",
   "execution_count": 4,
   "metadata": {},
   "outputs": [],
   "source": [
    "url='https://raw.githubusercontent.com/Richv83/POO-TF/main/Residuos.csv'\n",
    "df = pd.read_csv(url, sep=';',encoding='latin-1')"
   ]
  },
  {
   "cell_type": "code",
   "execution_count": 5,
   "metadata": {},
   "outputs": [
    {
     "name": "stdout",
     "output_type": "stream",
     "text": [
      "   FECHA_CORTE  N_SEC  UBIGEO REG_NAT DEPARTAMENTO    PROVINCIA     DISTRITO  \\\n",
      "0     20230614   5593   10101   SELVA     AMAZONAS  CHACHAPOYAS  CHACHAPOYAS   \n",
      "1     20230614   5594   10102   SELVA     AMAZONAS  CHACHAPOYAS     ASUNCION   \n",
      "2     20230614   5595   10103  SIERRA     AMAZONAS  CHACHAPOYAS       BALSAS   \n",
      "3     20230614   5596   10104  SIERRA     AMAZONAS  CHACHAPOYAS        CHETO   \n",
      "4     20230614   5597   10105  SIERRA     AMAZONAS  CHACHAPOYAS    CHILIQUIN   \n",
      "\n",
      "   POB_TOTAL  POB_URBANA  POB_RURAL  GPC_DOM  QRESIDUOS_DOM  QRESIDUOS_NO_DOM  \\\n",
      "0      29111       28215        896     0.47        4840.28           2074.41   \n",
      "1        287         149        138     0.58          31.43             13.47   \n",
      "2       1641         304       1337     0.43          47.49             20.35   \n",
      "3        590         384        206     0.43          59.99             25.71   \n",
      "4        686         184        502     0.41          27.54             11.80   \n",
      "\n",
      "   QRESIDUOS_MUN  PERIODO  \n",
      "0        6914.69     2017  \n",
      "1          44.91     2017  \n",
      "2          67.84     2017  \n",
      "3          85.70     2017  \n",
      "4          39.34     2017  \n"
     ]
    }
   ],
   "source": [
    "print(df.head(5))"
   ]
  }
 ],
 "metadata": {
  "kernelspec": {
   "display_name": "Python 3",
   "language": "python",
   "name": "python3"
  },
  "language_info": {
   "codemirror_mode": {
    "name": "ipython",
    "version": 3
   },
   "file_extension": ".py",
   "mimetype": "text/x-python",
   "name": "python",
   "nbconvert_exporter": "python",
   "pygments_lexer": "ipython3",
   "version": "3.12.0"
  }
 },
 "nbformat": 4,
 "nbformat_minor": 2
}
